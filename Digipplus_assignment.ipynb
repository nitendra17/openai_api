{
 "cells": [
  {
   "cell_type": "code",
   "execution_count": 1,
   "id": "b24349b4",
   "metadata": {},
   "outputs": [
    {
     "name": "stdout",
     "output_type": "stream",
     "text": [
      "Collecting openai\n",
      "  Obtaining dependency information for openai from https://files.pythonhosted.org/packages/1e/9f/385c25502f437686e4aa715969e5eaf5c2cb5e5ffa7c5cdd52f3c6ae967a/openai-0.28.1-py3-none-any.whl.metadata\n",
      "  Downloading openai-0.28.1-py3-none-any.whl.metadata (11 kB)\n",
      "Requirement already satisfied: requests>=2.20 in ./my_env/lib/python3.9/site-packages (from openai) (2.31.0)\n",
      "Requirement already satisfied: tqdm in ./my_env/lib/python3.9/site-packages (from openai) (4.65.0)\n",
      "Requirement already satisfied: aiohttp in ./my_env/lib/python3.9/site-packages (from openai) (3.8.4)\n",
      "Requirement already satisfied: charset-normalizer<4,>=2 in ./my_env/lib/python3.9/site-packages (from requests>=2.20->openai) (3.1.0)\n",
      "Requirement already satisfied: idna<4,>=2.5 in ./my_env/lib/python3.9/site-packages (from requests>=2.20->openai) (3.4)\n",
      "Requirement already satisfied: urllib3<3,>=1.21.1 in ./my_env/lib/python3.9/site-packages (from requests>=2.20->openai) (1.26.16)\n",
      "Requirement already satisfied: certifi>=2017.4.17 in ./my_env/lib/python3.9/site-packages (from requests>=2.20->openai) (2023.5.7)\n",
      "Requirement already satisfied: attrs>=17.3.0 in ./my_env/lib/python3.9/site-packages (from aiohttp->openai) (23.1.0)\n",
      "Requirement already satisfied: multidict<7.0,>=4.5 in ./my_env/lib/python3.9/site-packages (from aiohttp->openai) (6.0.4)\n",
      "Requirement already satisfied: async-timeout<5.0,>=4.0.0a3 in ./my_env/lib/python3.9/site-packages (from aiohttp->openai) (4.0.2)\n",
      "Requirement already satisfied: yarl<2.0,>=1.0 in ./my_env/lib/python3.9/site-packages (from aiohttp->openai) (1.9.2)\n",
      "Requirement already satisfied: frozenlist>=1.1.1 in ./my_env/lib/python3.9/site-packages (from aiohttp->openai) (1.3.3)\n",
      "Requirement already satisfied: aiosignal>=1.1.2 in ./my_env/lib/python3.9/site-packages (from aiohttp->openai) (1.3.1)\n",
      "Downloading openai-0.28.1-py3-none-any.whl (76 kB)\n",
      "\u001b[2K   \u001b[90m━━━━━━━━━━━━━━━━━━━━━━━━━━━━━━━━━━━━━━━━\u001b[0m \u001b[32m77.0/77.0 kB\u001b[0m \u001b[31m482.0 kB/s\u001b[0m eta \u001b[36m0:00:00\u001b[0ma \u001b[36m0:00:01\u001b[0m\n",
      "\u001b[?25hInstalling collected packages: openai\n",
      "Successfully installed openai-0.28.1\n",
      "\n",
      "\u001b[1m[\u001b[0m\u001b[34;49mnotice\u001b[0m\u001b[1;39;49m]\u001b[0m\u001b[39;49m A new release of pip is available: \u001b[0m\u001b[31;49m23.2.1\u001b[0m\u001b[39;49m -> \u001b[0m\u001b[32;49m23.3.1\u001b[0m\n",
      "\u001b[1m[\u001b[0m\u001b[34;49mnotice\u001b[0m\u001b[1;39;49m]\u001b[0m\u001b[39;49m To update, run: \u001b[0m\u001b[32;49mpip install --upgrade pip\u001b[0m\n"
     ]
    }
   ],
   "source": [
    "!pip install openai"
   ]
  },
  {
   "cell_type": "code",
   "execution_count": 5,
   "id": "f2c7f7de",
   "metadata": {},
   "outputs": [
    {
     "name": "stdout",
     "output_type": "stream",
     "text": [
      "{\n",
      "  \"role\": \"assistant\",\n",
      "  \"content\": \"Dear Hiring Manager,\\n\\nI am writing to express my interest in securing a project at Digiplus as an intern for the machine learning engineering position. I am impressed with the innovative projects Digiplus has undertaken and the opportunity to contribute to such projects would be invaluable to my career development.\\n\\nI am currently pursuing a Bachelor's degree in Computer Science with a specialization in Artificial Intelligence. Throughout my academic journey, I have developed a solid foundation in machine learning algorithms, neural networks, and deep learning techniques. My coursework has equipped me with the necessary skills to handle complex machine learning projects and understand the underlying mathematics. I am proficient in programming languages such as Python, R, and MATLAB, and have experience working with popular machine learning libraries, including TensorFlow and scikit-learn.\\n\\nIn addition to my academic knowledge, I have gained practical experience through various internships. I previously interned at XYZ Corp, where I worked on a team developing a recommendation system using collaborative filtering technique. This experience enhanced my understanding of machine learning concepts in a real-world setting and allowed me to refine my problem-solving skills. I also gained experience in data preprocessing, feature engineering, and model evaluation.\\n\\nI believe that my combination of theoretical knowledge and practical experience makes me a strong candidate for an internship at Digiplus. I am eager to apply my skills and contribute to the company's projects. Specifically, I can bring the following value to the project:\\n\\n1. Strong foundation in machine learning: My knowledge of machine learning algorithms and deep learning techniques will allow me to analyze complex data, identify patterns, and build models that yield accurate predictions.\\n\\n2. Programming proficiency: With my expertise in Python and other programming languages, I can efficiently implement machine learning algorithms and develop robust and scalable solutions.\\n\\n3. Data analysis and visualization: I have experience in data preprocessing and data cleaning, ensuring that the input data is suitable for machine learning models. I can also present the results in a visually appealing and understandable manner, facilitating effective decision-making.\\n\\n4. Team player mindset: I understand the importance of collaboration in a project setting. I am a strong team player and am comfortable working in cross-functional teams to achieve project goals.\\n\\nGiven my skills, experience, and passion for machine learning, I am confident that I would make a valuable contribution to the projects at Digiplus. I am eager to apply my knowledge and grow as a machine learning engineer within your esteemed organization.\\n\\nI would appreciate the opportunity to discuss my application further. Thank you for considering my proposal, and I look forward to the possibility of contributing to Digiplus.\\n\\nSincerely,\\n[Your Name]\"\n",
      "}\n"
     ]
    }
   ],
   "source": [
    "import openai\n",
    "\n",
    "# Replace with your OpenAI API key\n",
    "api_key = \"your_api_key\"\n",
    "# Text prompt for generating the proposal\n",
    "prompt = \"Write a proposal to secure a project at Digiplus. Include information about your skills, experience, and the value you can bring to the project.\"\n",
    "\n",
    "# Set up the OpenAI API client\n",
    "openai.api_key = api_key\n",
    "\n",
    "completion = openai.ChatCompletion.create(\n",
    "  model=\"gpt-3.5-turbo\",\n",
    "  messages=[\n",
    "    {\"role\": \"system\", \"content\": \"You are an aspiring machine learning engineer applying to secure an internship at Digipplus.\"},\n",
    "    {\"role\": \"user\", \"content\": prompt}\n",
    "  ]\n",
    ")\n",
    "\n",
    "print(completion.choices[0].message)"
   ]
  },
  {
   "cell_type": "code",
   "execution_count": null,
   "id": "9600571e",
   "metadata": {},
   "outputs": [],
   "source": []
  }
 ],
 "metadata": {
  "kernelspec": {
   "display_name": "Python 3 (ipykernel)",
   "language": "python",
   "name": "python3"
  },
  "language_info": {
   "codemirror_mode": {
    "name": "ipython",
    "version": 3
   },
   "file_extension": ".py",
   "mimetype": "text/x-python",
   "name": "python",
   "nbconvert_exporter": "python",
   "pygments_lexer": "ipython3",
   "version": "3.9.6"
  }
 },
 "nbformat": 4,
 "nbformat_minor": 5
}
